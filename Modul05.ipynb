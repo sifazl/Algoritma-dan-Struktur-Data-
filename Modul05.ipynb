{
 "cells": [
  {
   "cell_type": "code",
   "execution_count": 2,
   "metadata": {},
   "outputs": [
    {
     "name": "stdout",
     "output_type": "stream",
     "text": [
      "hi, my name is Sifa\n"
     ]
    }
   ],
   "source": [
    "def biodata():\n",
    "    print (\"hi, my name is Sifa\")\n",
    "    \n",
    "biodata()"
   ]
  },
  {
   "cell_type": "code",
   "execution_count": 3,
   "metadata": {},
   "outputs": [
    {
     "name": "stdout",
     "output_type": "stream",
     "text": [
      "Because I proud to maek something new\n",
      "I like programming\n",
      "I like programming\n"
     ]
    }
   ],
   "source": [
    "def alasan():\n",
    "    print (\"Because I proud to maek something new\")\n",
    "    \n",
    "def hobby():\n",
    "      print (\"I like programming\")\n",
    "      \n",
    "alasan()\n",
    "hobby()"
   ]
  },
  {
   "cell_type": "code",
   "execution_count": 2,
   "metadata": {},
   "outputs": [
    {
     "name": "stdout",
     "output_type": "stream",
     "text": [
      "Halo, Nama Saya Sifa\n",
      "luas segitiga adalah 10.0\n",
      "luas segitiga adalah 15.0\n"
     ]
    }
   ],
   "source": [
    "def perkenalan():\n",
    "    nama=input(\"Halo, Nama Saya \")\n",
    "\n",
    "def luas_segitiga(alas, tinggi):\n",
    "    luas = (alas*tinggi)/2\n",
    "    print(\"luas segitiga adalah\", luas)\n",
    "    \n",
    "perkenalan()\n",
    "luas_segitiga(5, 4)\n",
    "luas_segitiga(10,3)"
   ]
  },
  {
   "cell_type": "code",
   "execution_count": 5,
   "metadata": {},
   "outputs": [
    {
     "name": "stdout",
     "output_type": "stream",
     "text": [
      "Happy Birthday and many returns\n"
     ]
    }
   ],
   "source": [
    "def ucapan(ulangtahun):\n",
    "    print(ulangtahun)\n",
    "    \n",
    "ucapan(\"Happy Birthday and many returns\")"
   ]
  },
  {
   "cell_type": "code",
   "execution_count": 7,
   "metadata": {},
   "outputs": [
    {
     "name": "stdout",
     "output_type": "stream",
     "text": [
      "luas segitiga adalah 10.0\n",
      "luas segitiga adalah 15.0\n"
     ]
    }
   ],
   "source": [
    "def luas_segitiga(alas, tinggi):\n",
    "    luas = (alas*tinggi)/2\n",
    "    print(\"luas segitiga adalah\", luas)\n",
    "    \n",
    "luas_segitiga(5, 4)\n",
    "luas_segitiga(10,3)"
   ]
  },
  {
   "cell_type": "code",
   "execution_count": 10,
   "metadata": {},
   "outputs": [
    {
     "name": "stdout",
     "output_type": "stream",
     "text": [
      "luas persegi 36\n",
      "luas persegi dengan 36\n",
      "volume kubus dengan 125\n"
     ]
    }
   ],
   "source": [
    "#fungsi return\n",
    "def luas_persegi(sisi):\n",
    "    luas=sisi*sisi\n",
    "    return luas\n",
    "\n",
    "#pemanggilan fungsi\n",
    "print (\"luas persegi\", luas_persegi(6))\n",
    "\n",
    "#volume kubus\n",
    "def volume_kubus(sisi):\n",
    "    volume= luas_persegi(sisi)*sisi\n",
    "    return volume\n",
    "\n",
    "#pemanggilan fungsi\n",
    "print(\"luas persegi dengan\",luas_persegi(6))\n",
    "print(\"volume kubus dengan\",volume_kubus (5))"
   ]
  },
  {
   "cell_type": "code",
   "execution_count": 1,
   "metadata": {},
   "outputs": [
    {
     "ename": "KeyboardInterrupt",
     "evalue": "Interrupted by user",
     "output_type": "error",
     "traceback": [
      "\u001b[1;31m---------------------------------------------------------------------------\u001b[0m",
      "\u001b[1;31mKeyboardInterrupt\u001b[0m                         Traceback (most recent call last)",
      "\u001b[1;32m<ipython-input-1-7b3521c5b46e>\u001b[0m in \u001b[0;36m<module>\u001b[1;34m\u001b[0m\n\u001b[1;32m----> 1\u001b[1;33m \u001b[0mp\u001b[0m \u001b[1;33m=\u001b[0m \u001b[0mint\u001b[0m\u001b[1;33m(\u001b[0m\u001b[0minput\u001b[0m \u001b[1;33m(\u001b[0m\u001b[1;34m\"panjang\"\u001b[0m\u001b[1;33m)\u001b[0m\u001b[1;33m)\u001b[0m\u001b[1;33m\u001b[0m\u001b[1;33m\u001b[0m\u001b[0m\n\u001b[0m\u001b[0;32m      2\u001b[0m \u001b[0ml\u001b[0m \u001b[1;33m=\u001b[0m \u001b[0mint\u001b[0m\u001b[1;33m(\u001b[0m\u001b[0minput\u001b[0m \u001b[1;33m(\u001b[0m\u001b[1;34m\"lebar\"\u001b[0m\u001b[1;33m)\u001b[0m\u001b[1;33m)\u001b[0m\u001b[1;33m\u001b[0m\u001b[1;33m\u001b[0m\u001b[0m\n\u001b[0;32m      3\u001b[0m \u001b[0mt\u001b[0m \u001b[1;33m=\u001b[0m \u001b[0mint\u001b[0m \u001b[1;33m(\u001b[0m\u001b[0minput\u001b[0m \u001b[1;33m(\u001b[0m\u001b[1;34m\"tinggi\"\u001b[0m\u001b[1;33m)\u001b[0m\u001b[1;33m)\u001b[0m\u001b[1;33m\u001b[0m\u001b[1;33m\u001b[0m\u001b[0m\n\u001b[0;32m      4\u001b[0m \u001b[1;33m\u001b[0m\u001b[0m\n\u001b[0;32m      5\u001b[0m \u001b[1;32mdef\u001b[0m \u001b[0mluas_ppanjang\u001b[0m \u001b[1;33m(\u001b[0m\u001b[1;33m)\u001b[0m\u001b[1;33m:\u001b[0m\u001b[1;33m\u001b[0m\u001b[1;33m\u001b[0m\u001b[0m\n",
      "\u001b[1;32m~\\anaconda3\\lib\\site-packages\\ipykernel\\kernelbase.py\u001b[0m in \u001b[0;36mraw_input\u001b[1;34m(self, prompt)\u001b[0m\n\u001b[0;32m    858\u001b[0m                 \u001b[1;34m\"raw_input was called, but this frontend does not support input requests.\"\u001b[0m\u001b[1;33m\u001b[0m\u001b[1;33m\u001b[0m\u001b[0m\n\u001b[0;32m    859\u001b[0m             )\n\u001b[1;32m--> 860\u001b[1;33m         return self._input_request(str(prompt),\n\u001b[0m\u001b[0;32m    861\u001b[0m             \u001b[0mself\u001b[0m\u001b[1;33m.\u001b[0m\u001b[0m_parent_ident\u001b[0m\u001b[1;33m,\u001b[0m\u001b[1;33m\u001b[0m\u001b[1;33m\u001b[0m\u001b[0m\n\u001b[0;32m    862\u001b[0m             \u001b[0mself\u001b[0m\u001b[1;33m.\u001b[0m\u001b[0m_parent_header\u001b[0m\u001b[1;33m,\u001b[0m\u001b[1;33m\u001b[0m\u001b[1;33m\u001b[0m\u001b[0m\n",
      "\u001b[1;32m~\\anaconda3\\lib\\site-packages\\ipykernel\\kernelbase.py\u001b[0m in \u001b[0;36m_input_request\u001b[1;34m(self, prompt, ident, parent, password)\u001b[0m\n\u001b[0;32m    902\u001b[0m             \u001b[1;32mexcept\u001b[0m \u001b[0mKeyboardInterrupt\u001b[0m\u001b[1;33m:\u001b[0m\u001b[1;33m\u001b[0m\u001b[1;33m\u001b[0m\u001b[0m\n\u001b[0;32m    903\u001b[0m                 \u001b[1;31m# re-raise KeyboardInterrupt, to truncate traceback\u001b[0m\u001b[1;33m\u001b[0m\u001b[1;33m\u001b[0m\u001b[1;33m\u001b[0m\u001b[0m\n\u001b[1;32m--> 904\u001b[1;33m                 \u001b[1;32mraise\u001b[0m \u001b[0mKeyboardInterrupt\u001b[0m\u001b[1;33m(\u001b[0m\u001b[1;34m\"Interrupted by user\"\u001b[0m\u001b[1;33m)\u001b[0m \u001b[1;32mfrom\u001b[0m \u001b[1;32mNone\u001b[0m\u001b[1;33m\u001b[0m\u001b[1;33m\u001b[0m\u001b[0m\n\u001b[0m\u001b[0;32m    905\u001b[0m             \u001b[1;32mexcept\u001b[0m \u001b[0mException\u001b[0m \u001b[1;32mas\u001b[0m \u001b[0me\u001b[0m\u001b[1;33m:\u001b[0m\u001b[1;33m\u001b[0m\u001b[1;33m\u001b[0m\u001b[0m\n\u001b[0;32m    906\u001b[0m                 \u001b[0mself\u001b[0m\u001b[1;33m.\u001b[0m\u001b[0mlog\u001b[0m\u001b[1;33m.\u001b[0m\u001b[0mwarning\u001b[0m\u001b[1;33m(\u001b[0m\u001b[1;34m\"Invalid Message:\"\u001b[0m\u001b[1;33m,\u001b[0m \u001b[0mexc_info\u001b[0m\u001b[1;33m=\u001b[0m\u001b[1;32mTrue\u001b[0m\u001b[1;33m)\u001b[0m\u001b[1;33m\u001b[0m\u001b[1;33m\u001b[0m\u001b[0m\n",
      "\u001b[1;31mKeyboardInterrupt\u001b[0m: Interrupted by user"
     ]
    }
   ],
   "source": [
    "p = int(input (\"panjang\"))\n",
    "l = int(input (\"lebar\"))\n",
    "t = int (input (\"tinggi\"))\n",
    "\n",
    "def luas_ppanjang ():\n",
    "    luas = p*l\n",
    "    return luas\n",
    "\n",
    "def volume_balok ():\n",
    "    volume = luas_ppanjang ()*t\n",
    "    return volume\n",
    "\n",
    "#pemanggilan fungsi\n",
    "print(\"luas persegi panjang adalah\", luas_ppanjang())\n",
    "print (\"volume balok adalah\", volume_balok())\n",
    "    "
   ]
  },
  {
   "cell_type": "code",
   "execution_count": 17,
   "metadata": {},
   "outputs": [
    {
     "name": "stdout",
     "output_type": "stream",
     "text": [
      "angka1 \n"
     ]
    },
    {
     "ename": "ValueError",
     "evalue": "invalid literal for int() with base 10: ''",
     "output_type": "error",
     "traceback": [
      "\u001b[1;31m---------------------------------------------------------------------------\u001b[0m",
      "\u001b[1;31mValueError\u001b[0m                                Traceback (most recent call last)",
      "\u001b[1;32m<ipython-input-17-56128a589b49>\u001b[0m in \u001b[0;36m<module>\u001b[1;34m\u001b[0m\n\u001b[1;32m----> 1\u001b[1;33m \u001b[0mangka1\u001b[0m \u001b[1;33m=\u001b[0m \u001b[0mint\u001b[0m\u001b[1;33m(\u001b[0m\u001b[0minput\u001b[0m\u001b[1;33m(\u001b[0m\u001b[1;34m\"angka1 \"\u001b[0m\u001b[1;33m)\u001b[0m\u001b[1;33m)\u001b[0m\u001b[1;33m\u001b[0m\u001b[1;33m\u001b[0m\u001b[0m\n\u001b[0m\u001b[0;32m      2\u001b[0m \u001b[0mangka2\u001b[0m \u001b[1;33m=\u001b[0m \u001b[0mint\u001b[0m\u001b[1;33m(\u001b[0m\u001b[0minput\u001b[0m\u001b[1;33m(\u001b[0m\u001b[1;34m\"angka2 \"\u001b[0m\u001b[1;33m)\u001b[0m\u001b[1;33m)\u001b[0m\u001b[1;33m\u001b[0m\u001b[1;33m\u001b[0m\u001b[0m\n\u001b[0;32m      3\u001b[0m \u001b[1;33m\u001b[0m\u001b[0m\n\u001b[0;32m      4\u001b[0m \u001b[1;32mdef\u001b[0m \u001b[0msama_dengan\u001b[0m\u001b[1;33m(\u001b[0m\u001b[0mangka1\u001b[0m\u001b[1;33m,\u001b[0m \u001b[0mangka2\u001b[0m\u001b[1;33m)\u001b[0m\u001b[1;33m:\u001b[0m\u001b[1;33m\u001b[0m\u001b[1;33m\u001b[0m\u001b[0m\n\u001b[0;32m      5\u001b[0m     \u001b[0msm_dgn\u001b[0m \u001b[1;33m=\u001b[0m \u001b[0mangka1\u001b[0m\u001b[1;33m==\u001b[0m\u001b[0mangka2\u001b[0m\u001b[1;33m\u001b[0m\u001b[1;33m\u001b[0m\u001b[0m\n",
      "\u001b[1;31mValueError\u001b[0m: invalid literal for int() with base 10: ''"
     ]
    }
   ],
   "source": [
    "\n",
    "angka1 = int(input(\"angka1 \"))\n",
    "angka2 = int(input(\"angka2 \"))\n",
    "    \n",
    "def sama_dengan(angka1, angka2):\n",
    "    sm_dgn = angka1==angka2\n",
    "    return sm_dgn\n",
    "def lebih_besar(angka1, angka2):\n",
    "    lbh_bsr = angka1>angka2\n",
    "    \n",
    "sama_dengan(angka1, angka2)\n",
    "lebih_besar(angka1, angka2)"
   ]
  },
  {
   "cell_type": "code",
   "execution_count": 19,
   "metadata": {},
   "outputs": [
    {
     "name": "stdout",
     "output_type": "stream",
     "text": [
      "angka1 88\n",
      "angka2 44\n",
      "Apakah a sama dengan angka2 : False\n",
      "Apakah a lebih besar angka2 : True\n"
     ]
    }
   ],
   "source": [
    "angka1 = int(input(\"angka1 \"))\n",
    "angka2 = int(input(\"angka2 \"))\n",
    "    \n",
    "def sama_dengan(angka1, angka2):\n",
    "    sm_dgn = angka1==angka2\n",
    "    print (\"Apakah a sama dengan angka2 :\", sm_dgn)\n",
    "\n",
    "def lebih_besar(angka1, angka2):\n",
    "    lbh_bsr = angka1>angka2\n",
    "    print (\"Apakah a lebih besar angka2 :\", lbh_bsr)\n",
    "    \n",
    "sama_dengan(angka1, angka2)\n",
    "lebih_besar(angka1, angka2)"
   ]
  },
  {
   "cell_type": "code",
   "execution_count": null,
   "metadata": {},
   "outputs": [],
   "source": [
    "angka1 = int(input(\"angka1 \"))\n",
    "angka2 = int(input(\"angka2 \"))\n",
    "    \n",
    "def sama_dengan(angka1, angka2):\n",
    "    sm_dgn = angka1==angka2\n",
    "    print (\"Apakah a sama dengan angka2 :\", sm_dgn)\n",
    "\n",
    "def lebih_besar(angka1, angka2):\n",
    "    lbh_bsr = angka1>angka2\n",
    "    print (\"Apakah a lebih besar angka2 :\", lbh_bsr)\n",
    "    \n",
    "sama_dengan(angka1, angka2)\n",
    "lebih_besar(angka1, angka2)"
   ]
  }
 ],
 "metadata": {
  "kernelspec": {
   "display_name": "Python 3",
   "language": "python",
   "name": "python3"
  },
  "language_info": {
   "codemirror_mode": {
    "name": "ipython",
    "version": 3
   },
   "file_extension": ".py",
   "mimetype": "text/x-python",
   "name": "python",
   "nbconvert_exporter": "python",
   "pygments_lexer": "ipython3",
   "version": "3.8.3"
  }
 },
 "nbformat": 4,
 "nbformat_minor": 4
}
