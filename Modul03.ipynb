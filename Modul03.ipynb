{
 "cells": [
  {
   "cell_type": "code",
   "execution_count": 5,
   "metadata": {},
   "outputs": [
    {
     "name": "stdout",
     "output_type": "stream",
     "text": [
      "30\n",
      "3.14\n",
      "50\n",
      "ini variabel sifa nuzul\n",
      "ini variabel sifa nuzul adalah 50\n"
     ]
    }
   ],
   "source": [
    "Var = 30        #variabel:Var\n",
    "Phi = 3.14      #variabel:Phi\n",
    "Var2 = 50       #variabel:Var2\n",
    "Variabel_saya = \"ini variabel sifa nuzul\"  #variabel:Variabel_saya\n",
    "\n",
    "print (Var)\n",
    "print (Phi)\n",
    "print (Var2)\n",
    "print (Variabel_saya)\n",
    "print (Variabel_saya,\"adalah\", Var2)"
   ]
  },
  {
   "cell_type": "code",
   "execution_count": 6,
   "metadata": {},
   "outputs": [
    {
     "name": "stdout",
     "output_type": "stream",
     "text": [
      "Sifa\n",
      "\n",
      "     Jl. Kalayuda Rt.01, Kelurahan Karja, Tegal\n",
      "\n",
      "masak\n"
     ]
    }
   ],
   "source": [
    "nama = \"Sifa\"\n",
    "alamat = \"\"\"\n",
    "     Jl. Kalayuda Rt.01, Kelurahan Karja, Tegal\n",
    "\"\"\"\n",
    "hobi = 'masak'\n",
    "print(nama)\n",
    "print(alamat)\n",
    "print(hobi)"
   ]
  },
  {
   "cell_type": "code",
   "execution_count": 7,
   "metadata": {},
   "outputs": [
    {
     "name": "stdout",
     "output_type": "stream",
     "text": [
      "True\n"
     ]
    }
   ],
   "source": [
    "a= True\n",
    "b = False\n",
    "\n",
    "print(a)"
   ]
  },
  {
   "cell_type": "code",
   "execution_count": 8,
   "metadata": {},
   "outputs": [
    {
     "name": "stdout",
     "output_type": "stream",
     "text": [
      "False\n"
     ]
    }
   ],
   "source": [
    "perbandingan = 12<10\n",
    "print (perbandingan)"
   ]
  },
  {
   "cell_type": "code",
   "execution_count": 9,
   "metadata": {},
   "outputs": [
    {
     "name": "stdout",
     "output_type": "stream",
     "text": [
      "4.0\n"
     ]
    }
   ],
   "source": [
    "a = 20\n",
    "b = 5\n",
    "c = a/b\n",
    "print (c)"
   ]
  },
  {
   "cell_type": "code",
   "execution_count": 2,
   "metadata": {},
   "outputs": [
    {
     "name": "stdout",
     "output_type": "stream",
     "text": [
      "0b1010\n"
     ]
    }
   ],
   "source": [
    "a = 10\n",
    "print(bin (a))"
   ]
  },
  {
   "cell_type": "code",
   "execution_count": null,
   "metadata": {},
   "outputs": [],
   "source": []
  }
 ],
 "metadata": {
  "kernelspec": {
   "display_name": "Python 3",
   "language": "python",
   "name": "python3"
  },
  "language_info": {
   "codemirror_mode": {
    "name": "ipython",
    "version": 3
   },
   "file_extension": ".py",
   "mimetype": "text/x-python",
   "name": "python",
   "nbconvert_exporter": "python",
   "pygments_lexer": "ipython3",
   "version": "3.8.3"
  }
 },
 "nbformat": 4,
 "nbformat_minor": 4
}
