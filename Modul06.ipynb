{
 "cells": [
  {
   "cell_type": "code",
   "execution_count": 3,
   "metadata": {},
   "outputs": [
    {
     "name": "stdout",
     "output_type": "stream",
     "text": [
      "apakah kamu lulus?[ya/tidak]: tidak\n",
      "kamu harus ikut remidi\n"
     ]
    }
   ],
   "source": [
    "#if\n",
    "lulus = input(\"apakah kamu lulus?[ya/tidak]: \")\n",
    "\n",
    "if lulus == \"tidak\":\n",
    "    print (\"kamu harus ikut remidi\")"
   ]
  },
  {
   "cell_type": "code",
   "execution_count": 4,
   "metadata": {},
   "outputs": [
    {
     "name": "stdout",
     "output_type": "stream",
     "text": [
      "apakah kamu lulus?[ya/tidak]: ya\n"
     ]
    }
   ],
   "source": [
    "#if\n",
    "lulus = input(\"apakah kamu lulus?[ya/tidak]: \")\n",
    "\n",
    "if lulus == \"tidak\":\n",
    "    print (\"kamu harus ikut remidi\")"
   ]
  },
  {
   "cell_type": "code",
   "execution_count": 5,
   "metadata": {},
   "outputs": [
    {
     "name": "stdout",
     "output_type": "stream",
     "text": [
      "input usia 12\n",
      "Anda Tidak Boleh Menonton\n"
     ]
    }
   ],
   "source": [
    "#if/else\n",
    "\n",
    "umur = int(input(\"input usia \"))\n",
    "\n",
    "if umur >= 18:\n",
    "    print (\"silahkan menonton\")\n",
    "else:\n",
    "    print(\"Anda Tidak Boleh Menonton\")"
   ]
  },
  {
   "cell_type": "code",
   "execution_count": 6,
   "metadata": {},
   "outputs": [
    {
     "name": "stdout",
     "output_type": "stream",
     "text": [
      "Nilai 60\n",
      "kamu harus mengikuti remidi\n"
     ]
    }
   ],
   "source": [
    "#tugas\n",
    "\n",
    "nilai = int(input(\"Nilai \"))\n",
    "\n",
    "if nilai <=70:\n",
    "    print (\"kamu harus mengikuti remidi\")"
   ]
  },
  {
   "cell_type": "code",
   "execution_count": 34,
   "metadata": {},
   "outputs": [
    {
     "name": "stdout",
     "output_type": "stream",
     "text": [
      "masukkan jari-jari 7\n"
     ]
    },
    {
     "ename": "TypeError",
     "evalue": "'str' object is not callable",
     "output_type": "error",
     "traceback": [
      "\u001b[1;31m---------------------------------------------------------------------------\u001b[0m",
      "\u001b[1;31mTypeError\u001b[0m                                 Traceback (most recent call last)",
      "\u001b[1;32m<ipython-input-34-cd58deed8e9c>\u001b[0m in \u001b[0;36m<module>\u001b[1;34m\u001b[0m\n\u001b[0;32m      1\u001b[0m \u001b[0mr\u001b[0m \u001b[1;33m=\u001b[0m \u001b[0mfloat\u001b[0m\u001b[1;33m(\u001b[0m\u001b[0minput\u001b[0m\u001b[1;33m(\u001b[0m\u001b[1;34m\"masukkan jari-jari \"\u001b[0m\u001b[1;33m)\u001b[0m\u001b[1;33m)\u001b[0m\u001b[1;33m\u001b[0m\u001b[1;33m\u001b[0m\u001b[0m\n\u001b[0;32m      2\u001b[0m \u001b[0mLuas\u001b[0m \u001b[1;33m=\u001b[0m \u001b[1;36m3.14\u001b[0m\u001b[1;33m*\u001b[0m\u001b[0mr\u001b[0m\u001b[1;33m*\u001b[0m\u001b[0mr\u001b[0m\u001b[1;33m\u001b[0m\u001b[1;33m\u001b[0m\u001b[0m\n\u001b[1;32m----> 3\u001b[1;33m \u001b[0mprint\u001b[0m \u001b[1;33m(\u001b[0m\u001b[1;34m\"L lingkaran \"\u001b[0m\u001b[1;33m,\u001b[0m \u001b[0mLuas\u001b[0m\u001b[1;33m)\u001b[0m\u001b[1;33m\u001b[0m\u001b[1;33m\u001b[0m\u001b[0m\n\u001b[0m\u001b[0;32m      4\u001b[0m \u001b[1;33m\u001b[0m\u001b[0m\n\u001b[0;32m      5\u001b[0m \u001b[1;32mif\u001b[0m \u001b[0mLuas\u001b[0m \u001b[1;33m>=\u001b[0m \u001b[1;36m314\u001b[0m\u001b[1;33m:\u001b[0m\u001b[1;33m\u001b[0m\u001b[1;33m\u001b[0m\u001b[0m\n",
      "\u001b[1;31mTypeError\u001b[0m: 'str' object is not callable"
     ]
    }
   ],
   "source": [
    "r = float(input(\"masukkan jari-jari \"))\n",
    "Luas = 3.14*r*r\n",
    "print (\"L lingkaran \", Luas)\n",
    "\n",
    "if Luas >= 314:\n",
    "    print(\"lingkaran ini besar\")\n",
    "else:\n",
    "    print (\"Lingkaran ini kecil\")"
   ]
  },
  {
   "cell_type": "code",
   "execution_count": null,
   "metadata": {},
   "outputs": [],
   "source": []
  }
 ],
 "metadata": {
  "kernelspec": {
   "display_name": "Python 3",
   "language": "python",
   "name": "python3"
  },
  "language_info": {
   "codemirror_mode": {
    "name": "ipython",
    "version": 3
   },
   "file_extension": ".py",
   "mimetype": "text/x-python",
   "name": "python",
   "nbconvert_exporter": "python",
   "pygments_lexer": "ipython3",
   "version": "3.8.3"
  }
 },
 "nbformat": 4,
 "nbformat_minor": 4
}
