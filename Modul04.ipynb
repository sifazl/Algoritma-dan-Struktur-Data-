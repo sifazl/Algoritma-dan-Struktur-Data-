{
 "cells": [
  {
   "cell_type": "code",
   "execution_count": 1,
   "metadata": {},
   "outputs": [
    {
     "name": "stdout",
     "output_type": "stream",
     "text": [
      "hasil 10 + 20 = 30\n",
      "hasil 10 - 20 = -10\n"
     ]
    }
   ],
   "source": [
    "a = 10\n",
    "b = 20\n",
    "\n",
    "c = a + b\n",
    "print (\"hasil\", a, \"+\", b, \"=\", c)\n",
    "\n",
    "d = a - b \n",
    "print (\"hasil\", a, \"-\", b,\"=\", d)"
   ]
  },
  {
   "cell_type": "code",
   "execution_count": 2,
   "metadata": {},
   "outputs": [
    {
     "name": "stdout",
     "output_type": "stream",
     "text": [
      "30\n",
      "60\n",
      "30\n",
      "900\n",
      "30.0\n",
      "0.0\n",
      "0.0\n"
     ]
    }
   ],
   "source": [
    "a = 30\n",
    "print (a)\n",
    "\n",
    "a += 30\n",
    "print (a)\n",
    "a -= 30\n",
    "print (a)\n",
    "a *= 30\n",
    "print (a)\n",
    "a /= 30\n",
    "print (a)\n",
    "a %= 30\n",
    "print (a)\n",
    "a **= 30\n",
    "print (a)\n"
   ]
  },
  {
   "cell_type": "code",
   "execution_count": 5,
   "metadata": {},
   "outputs": [
    {
     "name": "stdout",
     "output_type": "stream",
     "text": [
      "30\n",
      "205891132094649000000000000000000000000000000\n"
     ]
    }
   ],
   "source": [
    "a = 30\n",
    "print (a)\n",
    "\n",
    "a **= 30\n",
    "\n",
    "print (a)"
   ]
  },
  {
   "cell_type": "code",
   "execution_count": 6,
   "metadata": {},
   "outputs": [
    {
     "name": "stdout",
     "output_type": "stream",
     "text": [
      "30\n",
      "0\n"
     ]
    }
   ],
   "source": [
    "a = 30\n",
    "print (a)\n",
    "\n",
    "a %= 30\n",
    "\n",
    "print (a)"
   ]
  },
  {
   "cell_type": "code",
   "execution_count": 7,
   "metadata": {},
   "outputs": [
    {
     "name": "stdout",
     "output_type": "stream",
     "text": [
      "30\n",
      "900\n"
     ]
    }
   ],
   "source": [
    "a = 30\n",
    "print (a)\n",
    "\n",
    "a *= 30\n",
    "\n",
    "print (a)"
   ]
  },
  {
   "cell_type": "code",
   "execution_count": 8,
   "metadata": {},
   "outputs": [
    {
     "name": "stdout",
     "output_type": "stream",
     "text": [
      "30\n",
      "0\n"
     ]
    }
   ],
   "source": [
    "a = 30\n",
    "print (a)\n",
    "\n",
    "a -= 30\n",
    "\n",
    "print (a)"
   ]
  },
  {
   "cell_type": "code",
   "execution_count": 9,
   "metadata": {},
   "outputs": [
    {
     "name": "stdout",
     "output_type": "stream",
     "text": [
      "Apakah a sama dengan b: False\n",
      "Apakah a lebih besar dari b: True\n"
     ]
    }
   ],
   "source": [
    "a = 20\n",
    "b = 10\n",
    "\n",
    "#Apakah a sama dengan b \n",
    "c = a == b\n",
    "print (\"Apakah a sama dengan b:\", c)\n",
    "\n",
    "#Apakah a lebih besar dari b\n",
    "d = a > b\n",
    "print (\"Apakah a lebih besar dari b:\", d)"
   ]
  },
  {
   "cell_type": "code",
   "execution_count": 10,
   "metadata": {},
   "outputs": [
    {
     "name": "stdout",
     "output_type": "stream",
     "text": [
      "4\n"
     ]
    }
   ],
   "source": [
    "a = 4\n",
    "b = 5\n",
    "c = a & b\n",
    "print (c)"
   ]
  },
  {
   "cell_type": "code",
   "execution_count": 12,
   "metadata": {},
   "outputs": [
    {
     "name": "stdout",
     "output_type": "stream",
     "text": [
      "masukkan  nama Andasifa nuzul wulan\n",
      "Nama Anda adalah sifa nuzul wulan\n"
     ]
    }
   ],
   "source": [
    "#mengambil \n",
    "name = input (\"masukkan  nama Anda\")\n",
    "print (\"Nama Anda adalah\", name)"
   ]
  },
  {
   "cell_type": "code",
   "execution_count": 13,
   "metadata": {},
   "outputs": [
    {
     "name": "stdout",
     "output_type": "stream",
     "text": [
      "masukkan nilai alas 8\n",
      "masukkan nilai tinggi 10\n",
      "40.0\n"
     ]
    }
   ],
   "source": [
    "a = float (input (\"masukkan nilai alas \"))\n",
    "t = float (input (\"masukkan nilai tinggi \"))\n",
    "L = 0.5*a*t\n",
    "print (L)"
   ]
  },
  {
   "cell_type": "code",
   "execution_count": 14,
   "metadata": {},
   "outputs": [
    {
     "name": "stdout",
     "output_type": "stream",
     "text": [
      "masukkan nilai alas 40\n",
      "masukkan nilai tinggi 70\n",
      "1400.0\n"
     ]
    }
   ],
   "source": [
    "a = int (input (\"masukkan nilai alas \"))\n",
    "t = int (input (\"masukkan nilai tinggi \"))\n",
    "L = 0.5*a*t\n",
    "print (L)"
   ]
  },
  {
   "cell_type": "code",
   "execution_count": 4,
   "metadata": {},
   "outputs": [
    {
     "name": "stdout",
     "output_type": "stream",
     "text": [
      "nama bayi aku\n",
      "berat bayi dalam Kg adalah 3\n",
      "berat badan dalam ons adalah 30 ons\n",
      "berat bayi 1 bulan ke depan adalah 60 ons\n"
     ]
    }
   ],
   "source": [
    "nama = input (\"nama bayi \")\n",
    "berat = int (input (\"berat bayi dalam Kg adalah \"))\n",
    "\n",
    "berat_ons = berat * 10\n",
    "berat_1bln = berat_ons + 30\n",
    "print (\"berat badan dalam ons adalah\", berat_ons, \"ons\")\n",
    "print (\"berat bayi 1 bulan ke depan adalah\", berat_1bln, \"ons\")"
   ]
  },
  {
   "cell_type": "code",
   "execution_count": 2,
   "metadata": {},
   "outputs": [
    {
     "ename": "SyntaxError",
     "evalue": "invalid syntax (<ipython-input-2-b222e5adf75e>, line 4)",
     "output_type": "error",
     "traceback": [
      "\u001b[1;36m  File \u001b[1;32m\"<ipython-input-2-b222e5adf75e>\"\u001b[1;36m, line \u001b[1;32m4\u001b[0m\n\u001b[1;33m    c = not a b\u001b[0m\n\u001b[1;37m              ^\u001b[0m\n\u001b[1;31mSyntaxError\u001b[0m\u001b[1;31m:\u001b[0m invalid syntax\n"
     ]
    }
   ],
   "source": [
    "a = true\n",
    "b = false\n",
    "\n",
    "c = not a < b\n",
    "print (c)"
   ]
  }
 ],
 "metadata": {
  "kernelspec": {
   "display_name": "Python 3",
   "language": "python",
   "name": "python3"
  },
  "language_info": {
   "codemirror_mode": {
    "name": "ipython",
    "version": 3
   },
   "file_extension": ".py",
   "mimetype": "text/x-python",
   "name": "python",
   "nbconvert_exporter": "python",
   "pygments_lexer": "ipython3",
   "version": "3.8.3"
  }
 },
 "nbformat": 4,
 "nbformat_minor": 4
}
